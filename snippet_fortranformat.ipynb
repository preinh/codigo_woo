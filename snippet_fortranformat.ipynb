{
 "metadata": {
  "name": "",
  "signature": "sha256:19dba8af5e57537e28a10560334dadbd2fb61d1936d0a1dd4287dea37c8f4a5b"
 },
 "nbformat": 3,
 "nbformat_minor": 0,
 "worksheets": [
  {
   "cells": [
    {
     "cell_type": "code",
     "collapsed": false,
     "input": [
      "from fortranformat import FortranRecordReader\n",
      "\n",
      "header_line = FortranRecordReader('(I5,I5,I5,I5,F7.4,7X,F7.4,46X,F3.1)')\n",
      "print header_line.read(' 1223    1   11   20 6.9500       50.9333                                              5.6')\n",
      "# Outputs: ['              x', '              y', '              z']\n",
      "#line = FortranRecordReader('(3F15.3)')\n",
      "#print line.read('          1.000          0.000          0.500')\n",
      "# Outputs: [1.0, 0.0, 0.5]\n",
      "#print line.read('          1.100          0.100          0.600')\n"
     ],
     "language": "python",
     "metadata": {},
     "outputs": [
      {
       "output_type": "stream",
       "stream": "stdout",
       "text": [
        "[1223, 1, 11, 20, 6.95, 50.9333, 5.6]\n"
       ]
      }
     ],
     "prompt_number": 5
    },
    {
     "cell_type": "code",
     "collapsed": false,
     "input": [
      "from fortranformat import FortranRecordWriter\n",
      "\n",
      "header_line = FortranRecordWriter('(I5,I5,I5,I5,F7.4,7X,F7.4,46X,F3.1)')\n",
      "print header_line.write([1223, 1, 11, 20, 6.95, 50.9333, 5.6])\n",
      "# Outputs: '              x              y              z'\n",
      "#line = FortranRecordWriter('(3F15.3)')\n",
      "#print line.write([1.0, 0.0, 0.5])\n",
      "# Outputs: '          1.000          0.000          0.500'\n",
      "#print line.write([1.1, 0.1, 0.6])\n",
      "# Outputs: '          1.100          0.100          0.600'"
     ],
     "language": "python",
     "metadata": {},
     "outputs": [
      {
       "output_type": "stream",
       "stream": "stdout",
       "text": [
        " 1223    1   11   20 6.9500       50.9333                                              5.6\n"
       ]
      }
     ],
     "prompt_number": 6
    },
    {
     "cell_type": "code",
     "collapsed": false,
     "input": [],
     "language": "python",
     "metadata": {},
     "outputs": []
    }
   ],
   "metadata": {}
  }
 ]
}